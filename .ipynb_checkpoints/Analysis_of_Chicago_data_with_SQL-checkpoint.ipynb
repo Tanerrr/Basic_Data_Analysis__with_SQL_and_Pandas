{
 "cells": [
  {
   "cell_type": "code",
   "execution_count": 3,
   "metadata": {},
   "outputs": [
    {
     "name": "stdout",
     "output_type": "stream",
     "text": [
      "2020-10-22 08:48:28.942715\n"
     ]
    }
   ],
   "source": [
    "import pandas as pd\n",
    "from pandasql import sqldf\n",
    "\n",
    "#reminder\n",
    "from datetime import datetime\n",
    "print(datetime.now())"
   ]
  },
  {
   "cell_type": "code",
   "execution_count": 2,
   "metadata": {},
   "outputs": [
    {
     "name": "stdout",
     "output_type": "stream",
     "text": [
      "Collecting pandasql\n",
      "  Downloading pandasql-0.7.3.tar.gz (26 kB)\n",
      "Requirement already satisfied: numpy in /Users/taner/opt/anaconda3/lib/python3.8/site-packages (from pandasql) (1.18.5)\n",
      "Requirement already satisfied: pandas in /Users/taner/opt/anaconda3/lib/python3.8/site-packages (from pandasql) (1.0.5)\n",
      "Requirement already satisfied: sqlalchemy in /Users/taner/opt/anaconda3/lib/python3.8/site-packages (from pandasql) (1.3.18)\n",
      "Requirement already satisfied: pytz>=2017.2 in /Users/taner/opt/anaconda3/lib/python3.8/site-packages (from pandas->pandasql) (2020.1)\n",
      "Requirement already satisfied: python-dateutil>=2.6.1 in /Users/taner/opt/anaconda3/lib/python3.8/site-packages (from pandas->pandasql) (2.8.1)\n",
      "Requirement already satisfied: six>=1.5 in /Users/taner/opt/anaconda3/lib/python3.8/site-packages (from python-dateutil>=2.6.1->pandas->pandasql) (1.15.0)\n",
      "Building wheels for collected packages: pandasql\n",
      "  Building wheel for pandasql (setup.py) ... \u001b[?25ldone\n",
      "\u001b[?25h  Created wheel for pandasql: filename=pandasql-0.7.3-py3-none-any.whl size=26817 sha256=57cb1650a41d67345629e03b8a2052f5eaa8bc1546d4c09e450691773aacb65d\n",
      "  Stored in directory: /Users/taner/Library/Caches/pip/wheels/ed/8f/46/a383923333728744f01ba24adbd8e364f2cb9470a8b8e5b9ff\n",
      "Successfully built pandasql\n",
      "Installing collected packages: pandasql\n",
      "Successfully installed pandasql-0.7.3\n"
     ]
    }
   ],
   "source": [
    "!pip install pandasql"
   ]
  },
  {
   "cell_type": "code",
   "execution_count": null,
   "metadata": {},
   "outputs": [],
   "source": []
  }
 ],
 "metadata": {
  "kernelspec": {
   "display_name": "Python 3",
   "language": "python",
   "name": "python3"
  },
  "language_info": {
   "codemirror_mode": {
    "name": "ipython",
    "version": 3
   },
   "file_extension": ".py",
   "mimetype": "text/x-python",
   "name": "python",
   "nbconvert_exporter": "python",
   "pygments_lexer": "ipython3",
   "version": "3.8.3"
  }
 },
 "nbformat": 4,
 "nbformat_minor": 4
}
